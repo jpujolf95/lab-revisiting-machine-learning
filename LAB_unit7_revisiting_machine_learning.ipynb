{
 "cells": [
  {
   "cell_type": "code",
   "execution_count": 1,
   "metadata": {},
   "outputs": [],
   "source": [
    "import pandas as pd\n",
    "import numpy as np\n",
    "pd.set_option('display.max_columns', None)\n",
    "import warnings\n",
    "warnings.filterwarnings('ignore')\n",
    "import matplotlib.pyplot as plt\n",
    "import seaborn as sns "
   ]
  },
  {
   "cell_type": "code",
   "execution_count": 2,
   "metadata": {},
   "outputs": [],
   "source": [
    "df = pd.read_csv('learningSet.csv')"
   ]
  },
  {
   "cell_type": "code",
   "execution_count": 3,
   "metadata": {},
   "outputs": [
    {
     "data": {
      "text/plain": [
       "ODATEDW       0\n",
       "OSOURCE       0\n",
       "TCODE         0\n",
       "STATE         0\n",
       "ZIP           0\n",
       "           ... \n",
       "MDMAUD_R      0\n",
       "MDMAUD_F      0\n",
       "MDMAUD_A      0\n",
       "CLUSTER2    132\n",
       "GEOCODE2    132\n",
       "Length: 481, dtype: int64"
      ]
     },
     "execution_count": 3,
     "metadata": {},
     "output_type": "execute_result"
    }
   ],
   "source": [
    "df.isnull().sum()"
   ]
  },
  {
   "cell_type": "code",
   "execution_count": 4,
   "metadata": {},
   "outputs": [
    {
     "name": "stdout",
     "output_type": "stream",
     "text": [
      "AGE\n",
      "NUMCHLD\n",
      "INCOME\n",
      "WEALTH1\n",
      "MBCRAFT\n",
      "MBGARDEN\n",
      "MBBOOKS\n",
      "MBCOLECT\n",
      "MAGFAML\n",
      "MAGFEM\n",
      "MAGMALE\n",
      "PUBGARDN\n",
      "PUBCULIN\n",
      "PUBHLTH\n",
      "PUBDOITY\n",
      "PUBNEWFN\n",
      "PUBPHOTO\n",
      "PUBOPP\n",
      "WEALTH2\n",
      "MSA\n",
      "ADI\n",
      "DMA\n",
      "ADATE_3\n",
      "ADATE_4\n",
      "ADATE_5\n",
      "ADATE_6\n",
      "ADATE_7\n",
      "ADATE_8\n",
      "ADATE_9\n",
      "ADATE_10\n",
      "ADATE_11\n",
      "ADATE_12\n",
      "ADATE_13\n",
      "ADATE_14\n",
      "ADATE_15\n",
      "ADATE_16\n",
      "ADATE_17\n",
      "ADATE_18\n",
      "ADATE_19\n",
      "ADATE_20\n",
      "ADATE_21\n",
      "ADATE_22\n",
      "ADATE_23\n",
      "ADATE_24\n",
      "RDATE_3\n",
      "RDATE_4\n",
      "RDATE_5\n",
      "RDATE_6\n",
      "RDATE_7\n",
      "RDATE_8\n",
      "RDATE_9\n",
      "RDATE_10\n",
      "RDATE_11\n",
      "RDATE_12\n",
      "RDATE_13\n",
      "RDATE_14\n",
      "RDATE_15\n",
      "RDATE_16\n",
      "RDATE_17\n",
      "RDATE_18\n",
      "RDATE_19\n",
      "RDATE_20\n",
      "RDATE_21\n",
      "RDATE_22\n",
      "RDATE_23\n",
      "RDATE_24\n",
      "RAMNT_3\n",
      "RAMNT_4\n",
      "RAMNT_5\n",
      "RAMNT_6\n",
      "RAMNT_7\n",
      "RAMNT_8\n",
      "RAMNT_9\n",
      "RAMNT_10\n",
      "RAMNT_11\n",
      "RAMNT_12\n",
      "RAMNT_13\n",
      "RAMNT_14\n",
      "RAMNT_15\n",
      "RAMNT_16\n",
      "RAMNT_17\n",
      "RAMNT_18\n",
      "RAMNT_19\n",
      "RAMNT_20\n",
      "RAMNT_21\n",
      "RAMNT_22\n",
      "RAMNT_23\n",
      "RAMNT_24\n",
      "NEXTDATE\n",
      "TIMELAG\n",
      "CLUSTER2\n",
      "GEOCODE2\n"
     ]
    }
   ],
   "source": [
    "\n",
    "#save the columns with null values here\n",
    "nulls = df[df.columns[df.isnull().any()]]\n",
    "for column in nulls:\n",
    "    print (column)\n",
    "\n"
   ]
  },
  {
   "cell_type": "code",
   "execution_count": 5,
   "metadata": {},
   "outputs": [],
   "source": [
    "drop_list = df[['OSOURCE', 'ZIP']]"
   ]
  },
  {
   "cell_type": "code",
   "execution_count": 6,
   "metadata": {},
   "outputs": [
    {
     "data": {
      "text/plain": [
       "['NUMCHLD',\n",
       " 'RDATE_3',\n",
       " 'RDATE_4',\n",
       " 'RDATE_5',\n",
       " 'RDATE_6',\n",
       " 'RDATE_7',\n",
       " 'RDATE_10',\n",
       " 'RDATE_13',\n",
       " 'RDATE_15',\n",
       " 'RDATE_17',\n",
       " 'RDATE_20',\n",
       " 'RDATE_21',\n",
       " 'RDATE_23',\n",
       " 'RAMNT_3',\n",
       " 'RAMNT_4',\n",
       " 'RAMNT_5',\n",
       " 'RAMNT_6',\n",
       " 'RAMNT_7',\n",
       " 'RAMNT_10',\n",
       " 'RAMNT_13',\n",
       " 'RAMNT_15',\n",
       " 'RAMNT_17',\n",
       " 'RAMNT_20',\n",
       " 'RAMNT_21',\n",
       " 'RAMNT_23']"
      ]
     },
     "execution_count": 6,
     "metadata": {},
     "output_type": "execute_result"
    }
   ],
   "source": [
    "percent_missing = df.isnull().sum() * 100 / len(df)\n",
    "\n",
    "columns_to_drop = percent_missing[percent_missing>=85].index.tolist()\n",
    "columns_to_drop\n"
   ]
  },
  {
   "cell_type": "code",
   "execution_count": 7,
   "metadata": {},
   "outputs": [],
   "source": [
    "clean_df = df.drop(columns = columns_to_drop)\n"
   ]
  },
  {
   "cell_type": "code",
   "execution_count": 8,
   "metadata": {},
   "outputs": [
    {
     "name": "stdout",
     "output_type": "stream",
     "text": [
      "F    51277\n",
      "M    39094\n",
      "      2957\n",
      "U     1715\n",
      "J      365\n",
      "C        2\n",
      "A        2\n",
      "Name: GENDER, dtype: int64\n"
     ]
    }
   ],
   "source": [
    "print(clean_df['GENDER'].value_counts())\n",
    "clean_df['GENDER'] = clean_df['GENDER'].fillna('F')"
   ]
  },
  {
   "cell_type": "code",
   "execution_count": 19,
   "metadata": {},
   "outputs": [],
   "source": [
    "clean_df['GENDER'] = clean_df['GENDER'].apply(lambda x: x if x in ['M', 'F'] else 'Other')\n",
    "# if x is not m or f we want it to be other"
   ]
  }
 ],
 "metadata": {
  "kernelspec": {
   "display_name": "base",
   "language": "python",
   "name": "python3"
  },
  "language_info": {
   "codemirror_mode": {
    "name": "ipython",
    "version": 3
   },
   "file_extension": ".py",
   "mimetype": "text/x-python",
   "name": "python",
   "nbconvert_exporter": "python",
   "pygments_lexer": "ipython3",
   "version": "3.9.13"
  },
  "orig_nbformat": 4
 },
 "nbformat": 4,
 "nbformat_minor": 2
}
